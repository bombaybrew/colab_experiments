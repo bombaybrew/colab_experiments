{
  "nbformat": 4,
  "nbformat_minor": 0,
  "metadata": {
    "colab": {
      "name": "quickdraw_generator_gpu.ipynb",
      "provenance": [],
      "collapsed_sections": [],
      "authorship_tag": "ABX9TyMb1H9gHBz5wxVqLCIXuZu7",
      "include_colab_link": true
    },
    "kernelspec": {
      "name": "python3",
      "display_name": "Python 3"
    },
    "accelerator": "GPU"
  },
  "cells": [
    {
      "cell_type": "markdown",
      "metadata": {
        "id": "view-in-github",
        "colab_type": "text"
      },
      "source": [
        "<a href=\"https://colab.research.google.com/github/bombaybrew/colab_experiments/blob/master/quickdraw_generator_gpu.ipynb\" target=\"_parent\"><img src=\"https://colab.research.google.com/assets/colab-badge.svg\" alt=\"Open In Colab\"/></a>"
      ]
    },
    {
      "cell_type": "markdown",
      "metadata": {
        "id": "aD6Bqn6Mn5y5",
        "colab_type": "text"
      },
      "source": [
        "REFERENCE:\n",
        "\n",
        "https://colab.research.google.com/github/zaidalyafeai/zaidalyafeai.github.io/blob/master/sketcher/Sketcher.ipynb\n",
        "https://github.com/googlecreativelab/quickdraw-dataset"
      ]
    },
    {
      "cell_type": "code",
      "metadata": {
        "id": "FTq5pvsZnGWE",
        "colab_type": "code",
        "colab": {}
      },
      "source": [
        "# !gcloud auth login\n",
        "# !gcloud config set project 'upheld-quanta-284618'"
      ],
      "execution_count": 29,
      "outputs": []
    },
    {
      "cell_type": "code",
      "metadata": {
        "id": "_GY-xacwnf6T",
        "colab_type": "code",
        "colab": {
          "base_uri": "https://localhost:8080/",
          "height": 69
        },
        "outputId": "1971920c-4842-4402-eeca-87b525df7f71"
      },
      "source": [
        "!gsutil cp gs://ml_workspace/quick_draw/ds_20k.zip data.zip"
      ],
      "execution_count": 30,
      "outputs": [
        {
          "output_type": "stream",
          "text": [
            "Copying gs://ml_workspace/quick_draw/ds_20k.zip...\n",
            "| [1 files][614.1 MiB/614.1 MiB]    7.4 MiB/s                                   \n",
            "Operation completed over 1 objects/614.1 MiB.                                    \n"
          ],
          "name": "stdout"
        }
      ]
    },
    {
      "cell_type": "code",
      "metadata": {
        "id": "68vCWD7tnPnY",
        "colab_type": "code",
        "colab": {}
      },
      "source": [
        "# !ls -lah\n",
        "# !mkdir data\n",
        "# !unzip data.zip\n",
        "# !rm data.zip"
      ],
      "execution_count": 33,
      "outputs": []
    },
    {
      "cell_type": "code",
      "metadata": {
        "id": "ebqxC45znzvA",
        "colab_type": "code",
        "colab": {}
      },
      "source": [
        "# IMPORTS\n",
        "\n",
        "import os\n",
        "import glob\n",
        "import numpy as np\n",
        "import pandas as pd\n",
        "from tensorflow.keras import layers\n",
        "from tensorflow import keras \n",
        "import tensorflow as tf\n",
        "import matplotlib.pyplot as plt\n",
        "from sklearn import metrics\n",
        "import gc\n",
        "\n",
        "from numpy.random import seed\n",
        "seed(1)\n",
        "tf.random.set_seed(2)"
      ],
      "execution_count": 34,
      "outputs": []
    },
    {
      "cell_type": "code",
      "metadata": {
        "id": "3xbfJcbY65ch",
        "colab_type": "code",
        "colab": {
          "base_uri": "https://localhost:8080/",
          "height": 139
        },
        "outputId": "30f21dd9-d8df-45d9-de60-858602bdfdd0"
      },
      "source": [
        "# files = glob.iglob(\"data/*.npy\")\n",
        "# file = next(files)\n",
        "\n",
        "# data = np.load(file)\n",
        "# np.random.shuffle(data)\n",
        "# data = data[:10000, :]\n",
        "# data.shape\n",
        "\n",
        "# np.full(data.shape[0], 1)\n",
        "data"
      ],
      "execution_count": 59,
      "outputs": [
        {
          "output_type": "execute_result",
          "data": {
            "text/plain": [
              "array([[0, 0, 0, ..., 0, 0, 0],\n",
              "       [0, 0, 0, ..., 0, 0, 0],\n",
              "       [0, 0, 0, ..., 0, 0, 0],\n",
              "       ...,\n",
              "       [0, 0, 0, ..., 0, 0, 0],\n",
              "       [0, 0, 0, ..., 0, 0, 0],\n",
              "       [0, 0, 0, ..., 0, 0, 0]], dtype=uint8)"
            ]
          },
          "metadata": {
            "tags": []
          },
          "execution_count": 59
        }
      ]
    },
    {
      "cell_type": "code",
      "metadata": {
        "id": "_hK0ehpsqZuC",
        "colab_type": "code",
        "colab": {}
      },
      "source": [
        "def get_data_gen(files):\n",
        "\n",
        "  max_items_per_class = 2000\n",
        "  max_items_per_class_per_epoch = 1000\n",
        "  # batch_size = max_items_per_class / max_items_per_class_per_epoch\n",
        "  batch_size = 2\n",
        "\n",
        "  # files = glob.iglob(\"data/*.npy\")\n",
        "  class_names = []\n",
        "\n",
        "  for batch in range(batch_size):\n",
        "    #initialize variables \n",
        "    x = np.empty([0, 784])\n",
        "    y = np.empty([0])\n",
        "    print('loading files for training')\n",
        "\n",
        "    files = glob.iglob(\"data/*.npy\")\n",
        "    for idx, file in enumerate(files):\n",
        "      print(file)\n",
        "      data = np.load(file)\n",
        "      data = data[0: max_items_per_class, :]\n",
        "      #randomize the dataset\n",
        "      np.random.shuffle(data)\n",
        "      data = data[0:max_items_per_class_per_epoch, :]\n",
        "      labels = np.full(data.shape[0], idx)\n",
        "\n",
        "      x = np.concatenate((x, data), axis=0)\n",
        "      y = np.append(y, labels)\n",
        "\n",
        "      permutation = np.random.permutation(y.shape[0])\n",
        "      x_train = x[permutation, :]\n",
        "      x_train = x_train / 255.0\n",
        "      y_train = y[permutation]\n",
        "\n",
        "    print('---------- Loading complete')\n",
        "    yield x_train, y_train\n",
        "\n",
        "def get_data(start_index, stop_index):\n",
        "\n",
        "  files = glob.iglob(\"data/*.npy\")\n",
        "\n",
        "  #initialize variables \n",
        "  x = np.empty([0, 784])\n",
        "  y = np.empty([0])\n",
        "\n",
        "  for idx, file in enumerate(files):\n",
        "    print(file)\n",
        "    data = np.load(file)\n",
        "    data = data[start_index: stop_index, :]\n",
        "    #randomize the dataset\n",
        "    np.random.shuffle(data)\n",
        "    labels = np.full(data.shape[0], idx)\n",
        "\n",
        "    x = np.concatenate((x, data), axis=0)\n",
        "    y = np.append(y, labels)\n",
        "\n",
        "    permutation = np.random.permutation(y.shape[0])\n",
        "    x_subset = x[permutation, :]\n",
        "    x_subset = x_subset / 255.0\n",
        "    y_subset = y[permutation]\n",
        "\n",
        "    return x_subset, y_subset\n"
      ],
      "execution_count": 118,
      "outputs": []
    },
    {
      "cell_type": "code",
      "metadata": {
        "id": "0AlS6dGtKg5H",
        "colab_type": "code",
        "colab": {
          "base_uri": "https://localhost:8080/",
          "height": 52
        },
        "outputId": "cafa6ff1-08f6-4035-cfde-dd2959c52ead"
      },
      "source": [
        "# files = glob.iglob(\"data/*.npy\")\n",
        "# training_data_gen = get_data_gen(files)\n",
        "# x_val, y_val = get_data(17000, 18000)\n",
        "# x_test, y_test = get_data(18000, 20000)"
      ],
      "execution_count": 119,
      "outputs": [
        {
          "output_type": "stream",
          "text": [
            "data/finger.npy\n",
            "data/finger.npy\n"
          ],
          "name": "stdout"
        }
      ]
    },
    {
      "cell_type": "code",
      "metadata": {
        "id": "YdOn-0KiNvwd",
        "colab_type": "code",
        "colab": {
          "base_uri": "https://localhost:8080/",
          "height": 1000
        },
        "outputId": "7fc87fcc-8ab1-494b-8899-0123f3cdf979"
      },
      "source": [
        "x_train, y_train = next(training_data_gen)"
      ],
      "execution_count": 112,
      "outputs": [
        {
          "output_type": "stream",
          "text": [
            "loading files for training\n",
            "data/finger.npy\n",
            "data/ant.npy\n",
            "data/bird.npy\n",
            "data/peanut.npy\n",
            "data/snail.npy\n",
            "data/cloud.npy\n",
            "data/stove.npy\n",
            "data/cake.npy\n",
            "data/car.npy\n",
            "data/triangle.npy\n",
            "data/baseball.npy\n",
            "data/book.npy\n",
            "data/rainbow.npy\n",
            "data/rain.npy\n",
            "data/eraser.npy\n",
            "data/donut.npy\n",
            "data/axe.npy\n",
            "data/cannon.npy\n",
            "data/envelope.npy\n",
            "data/owl.npy\n",
            "data/umbrella.npy\n",
            "data/teapot.npy\n",
            "data/circle.npy\n",
            "data/rabbit.npy\n",
            "data/fish.npy\n",
            "data/hand.npy\n",
            "data/door.npy\n",
            "data/leg.npy\n",
            "data/flower.npy\n",
            "data/laptop.npy\n",
            "data/truck.npy\n",
            "data/fan.npy\n",
            "data/table.npy\n",
            "data/passport.npy\n",
            "data/spider.npy\n",
            "data/frog.npy\n",
            "data/pizza.npy\n",
            "data/kangaroo.npy\n",
            "data/lion.npy\n",
            "data/hammer.npy\n",
            "data/cookie.npy\n",
            "data/shoe.npy\n",
            "data/hospital.npy\n",
            "data/grapes.npy\n",
            "data/bucket.npy\n",
            "data/dolphin.npy\n",
            "data/toothpaste.npy\n",
            "data/piano.npy\n",
            "data/airplane.npy\n",
            "data/elephant.npy\n",
            "data/nose.npy\n",
            "data/panda.npy\n",
            "data/drums.npy\n",
            "data/cup.npy\n",
            "data/onion.npy\n",
            "data/microwave.npy\n",
            "data/ear.npy\n",
            "data/diamond.npy\n",
            "data/nail.npy\n",
            "data/television.npy\n",
            "data/toothbrush.npy\n",
            "data/beach.npy\n",
            "data/butterfly.npy\n",
            "data/bus.npy\n",
            "data/cow.npy\n",
            "data/snowflake.npy\n",
            "data/bee.npy\n",
            "data/monkey.npy\n",
            "data/horse.npy\n",
            "data/pig.npy\n",
            "data/shark.npy\n",
            "data/crab.npy\n",
            "data/knife.npy\n",
            "data/dragon.npy\n",
            "data/moon.npy\n",
            "data/sandwich.npy\n",
            "data/face.npy\n",
            "data/parachute.npy\n",
            "data/radio.npy\n",
            "data/duck.npy\n",
            "data/crayon.npy\n",
            "data/tent.npy\n",
            "data/whale.npy\n",
            "data/hat.npy\n",
            "data/star.npy\n",
            "data/jail.npy\n",
            "data/train.npy\n",
            "data/parrot.npy\n",
            "data/square.npy\n",
            "data/lollipop.npy\n",
            "data/garden.npy\n",
            "data/banana.npy\n",
            "data/potato.npy\n",
            "data/mouse.npy\n",
            "data/chair.npy\n",
            "data/cat.npy\n",
            "data/mug.npy\n",
            "data/strawberry.npy\n",
            "data/apple.npy\n",
            "data/clock.npy\n",
            "data/helmet.npy\n",
            "data/cactus.npy\n",
            "data/map.npy\n",
            "data/mountain.npy\n",
            "data/sun.npy\n",
            "data/grass.npy\n",
            "data/house.npy\n",
            "data/castle.npy\n",
            "data/zebra.npy\n",
            "data/saw.npy\n",
            "data/computer.npy\n",
            "data/church.npy\n",
            "data/carrot.npy\n",
            "data/pencil.npy\n",
            "data/eye.npy\n",
            "data/skull.npy\n",
            "data/stairs.npy\n",
            "data/river.npy\n",
            "data/guitar.npy\n",
            "data/toilet.npy\n",
            "---------- Loading complete\n"
          ],
          "name": "stdout"
        }
      ]
    },
    {
      "cell_type": "code",
      "metadata": {
        "id": "HaasPAdkuy1c",
        "colab_type": "code",
        "colab": {
          "base_uri": "https://localhost:8080/",
          "height": 86
        },
        "outputId": "4f9f9107-3d04-41df-9fe1-9651e6865cf0"
      },
      "source": [
        "print(x_train.shape)\n",
        "print(y_train.shape)\n",
        "# print(x_test.shape)\n",
        "# print(y_test.shape)\n",
        "# print(\"-----------\")\n",
        "print(x_train[0].shape)\n",
        "print(x_train.nbytes/1024/1024)"
      ],
      "execution_count": 87,
      "outputs": [
        {
          "output_type": "stream",
          "text": [
            "(120000, 784)\n",
            "(120000,)\n",
            "(784,)\n",
            "717.7734375\n"
          ],
          "name": "stdout"
        }
      ]
    },
    {
      "cell_type": "code",
      "metadata": {
        "id": "JHrmOLnbqCrt",
        "colab_type": "code",
        "colab": {}
      },
      "source": [
        "from random import randint\n",
        "def visualise_random(x, y):\n",
        "\n",
        "  idx = randint(0, len(x))\n",
        "  plt.imshow(x[idx].reshape(28,28))\n",
        "  print(class_names[int(y[idx])])\n",
        "  print(x[idx].reshape(28,28))"
      ],
      "execution_count": null,
      "outputs": []
    },
    {
      "cell_type": "code",
      "metadata": {
        "id": "Kmckf1j_gmS1",
        "colab_type": "code",
        "colab": {
          "base_uri": "https://localhost:8080/",
          "height": 1000
        },
        "outputId": "70a058cd-5aad-40c6-e08e-4ead8ebeea93"
      },
      "source": [
        "visualise_random(x_train, y_train)"
      ],
      "execution_count": null,
      "outputs": [
        {
          "output_type": "stream",
          "text": [
            "spider\n",
            "[[  0.   0.   0.   0.   0.   0.   0.   0.   0.   0.   0.   0.   0.   0.\n",
            "    0.   0.   0.   0.   0.   0.   0.   0.   0.   0.   0.   0.   0.   0.]\n",
            " [  0.   0.   0.   0.   0.   0.   0.   0.   0.   0.   0.   0.   0.   0.\n",
            "    0.   0.   0.   0.   0.   0.   0.   0.   0.   0.   0.   0.   0.   0.]\n",
            " [  0.   0.   0.   0.   0.   0.   0.   0.   0.   0.   0.   0.   0.   0.\n",
            "    0.   0.   0.   0.   0.   0.   0.   0.   0.   0.   0.   0.   0.   0.]\n",
            " [  0.   0.   0.   0.   0.   0.   0.   0.  68. 172.   1.   0.   0.   0.\n",
            "    0.   0.   0.   0.   0.   0.   0.   0.  38. 188.  17.   0.   0.   0.]\n",
            " [  0.   0.   0.   0. 145.  55.   0.   0.  93. 255.  38.   0.  19. 149.\n",
            "  193. 107.  18.  17.   0.   0.   0.   0. 133. 248.  13.   0.   0.   0.]\n",
            " [  0.   0.   0.   0. 252. 125.   0.   0.  83. 255.  47.   0. 181. 245.\n",
            "  207. 255. 255. 255. 200.  53.   0.   0. 215. 179.   0.   0.   0.   0.]\n",
            " [  0.   0.   0.   0. 248. 129.   0.   0. 147. 240.   3.   0. 211. 196.\n",
            "  173. 255. 255. 147. 224. 250.  20.  44. 255.  97.   0.  51.  13.   0.]\n",
            " [  0.   0.   0.   0. 243. 134.   0.   0. 195. 185.   0.   0. 211. 255.\n",
            "  255. 255. 255. 206. 207. 241.  14. 126. 252.  20.  34. 251. 103.   0.]\n",
            " [  0.   0.   0.   0. 238. 139.   0.   0. 210. 230. 135.  65. 184. 255.\n",
            "  208.  46. 223. 255. 229.  65.  18. 210. 189.   0. 154. 244.  21.   0.]\n",
            " [  0.   0.   0.   0. 232. 147.   0.   0.  86. 186. 246. 255. 255. 229.\n",
            "   62.   0.  11. 237. 188. 190. 251. 255.  98.  28. 249. 140.   0.   0.]\n",
            " [  0.   0.   0.   0. 184. 251. 207. 149.  93.  53.  85. 251. 215.  77.\n",
            "    0.   0.   0. 198. 255. 216. 124.  45.   0. 146. 248.  26.   0.   0.]\n",
            " [  0.   0.   0.   0.  29. 122. 178. 235. 255. 255. 255. 248.  15.   0.\n",
            "    0.   0.   0. 202. 234.   7.   0.   0.  23. 246. 148.   0.   0.   0.]\n",
            " [  0.   0.   0.   0.  65. 102.  86.  74.  82.  69. 233. 171.   0.   0.\n",
            "    0.   0.   0. 188. 191.  36.  58.  79. 168. 250.  30.   0.   0.   0.]\n",
            " [  0.   0.   0.   9. 244. 255. 255. 255. 255. 220. 255. 114.   0.   0.\n",
            "    0.   0.   0. 211. 250. 255. 255. 255. 255. 148.   0.   0.   0.   0.]\n",
            " [  0.   0.   0.  78. 255.  73.  34.  47.  84. 192. 255. 117.   0.   0.\n",
            "    0.   0.   0. 235. 212. 166. 165. 164. 131.  63.   0.   0.   0.   0.]\n",
            " [  0.   0.   0. 157. 234.   3.   0.   1.  49.  79. 249. 152.   0.   0.\n",
            "    0.   0.  12. 253. 255. 255. 241. 234. 252. 254.  30.   0.   0.   0.]\n",
            " [  0.   0.   2. 232. 156.   0.  18. 190. 255. 255. 255. 239.   7.   0.\n",
            "    0.   0. 108. 255.  91.  34.   4.   0.  42. 255.  92.   0.   0.   0.]\n",
            " [  0.   0.  61. 255.  77.   0. 102. 255. 103.  47.  83. 254. 150.   5.\n",
            "    0.  32. 222. 238. 255. 255. 219.  19.   1. 233. 152.   0.   0.   0.]\n",
            " [  0.   0. 140. 245.  10.   0. 122. 253.   2.   0.   0. 134. 255. 233.\n",
            "  198. 243. 238.  83.  79. 124. 255.  63.   0. 173. 213.   0.   0.   0.]\n",
            " [  0.   2. 220. 175.   0.   0. 105. 255.  16.   0.   0.   0.  66. 153.\n",
            "  178. 156.  24.   0.   0.  52. 255.  70.   0. 112. 254.  21.   0.   0.]\n",
            " [  0.  81. 255.  78.   0.   0.  90. 255.  32.   0.   0.   0.   0.   0.\n",
            "    0.   0.   0.   0.   0.  44. 255.  78.   0.  51. 255.  79.   0.   0.]\n",
            " [  0.  52. 140.   1.   0.   0. 116. 246.   8.   0.   0.   0.   0.   0.\n",
            "    0.   0.   0.   0.   0.  37. 255.  86.   0.   3. 210.  82.   0.   0.]\n",
            " [  0.   0.   0.   0.   0.   0.  16.  52.   0.   0.   0.   0.   0.   0.\n",
            "    0.   0.   0.   0.   0.  29. 255.  93.   0.   0.   0.   0.   0.   0.]\n",
            " [  0.   0.   0.   0.   0.   0.   0.   0.   0.   0.   0.   0.   0.   0.\n",
            "    0.   0.   0.   0.   0.  21. 255. 101.   0.   0.   0.   0.   0.   0.]\n",
            " [  0.   0.   0.   0.   0.   0.   0.   0.   0.   0.   0.   0.   0.   0.\n",
            "    0.   0.   0.   0.   0.   3. 181.  55.   0.   0.   0.   0.   0.   0.]\n",
            " [  0.   0.   0.   0.   0.   0.   0.   0.   0.   0.   0.   0.   0.   0.\n",
            "    0.   0.   0.   0.   0.   0.   0.   0.   0.   0.   0.   0.   0.   0.]\n",
            " [  0.   0.   0.   0.   0.   0.   0.   0.   0.   0.   0.   0.   0.   0.\n",
            "    0.   0.   0.   0.   0.   0.   0.   0.   0.   0.   0.   0.   0.   0.]\n",
            " [  0.   0.   0.   0.   0.   0.   0.   0.   0.   0.   0.   0.   0.   0.\n",
            "    0.   0.   0.   0.   0.   0.   0.   0.   0.   0.   0.   0.   0.   0.]]\n"
          ],
          "name": "stdout"
        },
        {
          "output_type": "display_data",
          "data": {
            "image/png": "[encoded data removed]",
            "text/plain": [
              "<Figure size 432x288 with 1 Axes>"
            ]
          },
          "metadata": {
            "tags": [],
            "needs_background": "light"
          }
        }
      ]
    },
    {
      "cell_type": "code",
      "metadata": {
        "id": "Tvo5955BGS61",
        "colab_type": "code",
        "colab": {}
      },
      "source": [
        "# Pre-Processing\n",
        "image_size = 28\n",
        "\n",
        "# Reshape and normalize\n",
        "x_train = x_train.reshape(x_train.shape[0], image_size, image_size, 1).astype('float16')\n",
        "x_test = x_test.reshape(x_test.shape[0], image_size, image_size, 1).astype('float16')\n",
        "\n",
        "x_train /= 255.0\n",
        "x_test /= 255.0\n",
        "\n",
        "# Convert class vectors to class matrices\n",
        "y_train = keras.utils.to_categorical(y_train, len(class_names))\n",
        "y_test = keras.utils.to_categorical(y_test, len(class_names))"
      ],
      "execution_count": null,
      "outputs": []
    },
    {
      "cell_type": "code",
      "metadata": {
        "id": "6BpOJuugGz-B",
        "colab_type": "code",
        "colab": {
          "base_uri": "https://localhost:8080/",
          "height": 139
        },
        "outputId": "147211a9-bf8d-46f1-b749-0721ec12afec"
      },
      "source": [
        "print(x_train.shape)\n",
        "print(y_train.shape)\n",
        "print(x_test.shape)\n",
        "print(y_test.shape)\n",
        "print(\"-----------\")\n",
        "print(x_train[0].shape)\n",
        "print(x_train.nbytes/1024/1024)"
      ],
      "execution_count": null,
      "outputs": [
        {
          "output_type": "stream",
          "text": [
            "(720000, 28, 28, 1)\n",
            "(720000, 120)\n",
            "(180000, 28, 28, 1)\n",
            "(180000, 120)\n",
            "-----------\n",
            "(28, 28, 1)\n",
            "1076.66015625\n"
          ],
          "name": "stdout"
        }
      ]
    },
    {
      "cell_type": "code",
      "metadata": {
        "id": "rsKnIckeWk6c",
        "colab_type": "code",
        "colab": {}
      },
      "source": [
        "# print(x_train[0])"
      ],
      "execution_count": null,
      "outputs": []
    },
    {
      "cell_type": "code",
      "metadata": {
        "id": "H3lJdyzsr4Gd",
        "colab_type": "code",
        "colab": {
          "base_uri": "https://localhost:8080/",
          "height": 34
        },
        "outputId": "84cdf332-b2fa-40fd-c1c2-c420618c2f6a"
      },
      "source": [
        "x_train.shape[1:]"
      ],
      "execution_count": null,
      "outputs": [
        {
          "output_type": "execute_result",
          "data": {
            "text/plain": [
              "(28, 28, 1)"
            ]
          },
          "metadata": {
            "tags": []
          },
          "execution_count": 36
        }
      ]
    },
    {
      "cell_type": "code",
      "metadata": {
        "id": "Vrzn6_cZ9log",
        "colab_type": "code",
        "colab": {}
      },
      "source": [
        "from keras.callbacks import EarlyStopping\n",
        "def print_metric(model):\n",
        "\n",
        "  score = model.evaluate(x_test, y_test, verbose=1)\n",
        "  print('Test accuarcy: {:0.2f}%'.format(score[1] * 100))\n",
        "  print('----------')\n",
        "\n",
        "  y_pred = model.predict(x_test, verbose=2)\n",
        "  # y_pred = (y_pred > 0.5 ? 1 : 0)\n",
        "  y_pred_argmax = np.argmax(y_pred, axis=1)\n",
        "  y_test_argmax = np.argmax(y_test, axis=1)\n",
        "  print(metrics.classification_report(y_test_argmax, y_pred_argmax))\n",
        "  print('----------')\n",
        "  print('HammingLoss: ', metrics.hamming_loss(y_test_argmax, y_pred_argmax))\n",
        "\n",
        "def run_exp(model, epoch=20, batch_size=256):\n",
        "  es = EarlyStopping(monitor='val_loss', mode='min', verbose=1, patience=3)\n",
        "  model.fit(x = x_train, y = y_train, validation_split=0.1, batch_size = 256, epochs=epoch, verbose=1)\n",
        "  print_metric(model)\n",
        "  return model"
      ],
      "execution_count": null,
      "outputs": []
    },
    {
      "cell_type": "code",
      "metadata": {
        "id": "vbWbLMLNxhnu",
        "colab_type": "code",
        "colab": {
          "base_uri": "https://localhost:8080/",
          "height": 1000
        },
        "outputId": "029be4aa-1280-4fdf-f5ba-310bf1fe1f96"
      },
      "source": [
        "def get_vgg_bn_reg_seq(num_classes):\n",
        "\n",
        "  activation = 'elu'\n",
        "\n",
        "  model = keras.Sequential(name=\"vgg_bn_reg_seq\")\n",
        "  model.add(layers.Convolution2D(16, (3, 3), name='c2d_11', input_shape=(28, 28, 1), padding='same', activation=activation))\n",
        "  model.add(layers.Convolution2D(16, (3, 3), name='c2d_12', padding='same', activation=activation))\n",
        "  model.add(layers.Convolution2D(16, (3, 3), name='c2d_13', padding='same', activation=activation))\n",
        "  model.add(layers.MaxPooling2D(pool_size=(2, 2)))\n",
        "  model.add(layers.Dropout(0.3))\n",
        "  model.add(layers.BatchNormalization())\n",
        "  model.add(layers.Convolution2D(32, (3, 3), name='c2d_21', padding='same', activation=activation))\n",
        "  model.add(layers.Convolution2D(32, (3, 3), name='c2d_22', padding='same', activation=activation))\n",
        "  model.add(layers.Convolution2D(32, (3, 3), name='c2d_23', padding='same', activation=activation))\n",
        "  model.add(layers.MaxPooling2D(pool_size=(2, 2)))\n",
        "  model.add(layers.Dropout(0.3))\n",
        "  model.add(layers.BatchNormalization())\n",
        "  model.add(layers.Convolution2D(64, (3, 3), name='c2d_31', padding='same', activation=activation))\n",
        "  model.add(layers.Convolution2D(64, (3, 3), name='c2d_32', padding='same', activation=activation))\n",
        "  model.add(layers.Convolution2D(64, (3, 3), name='c2d_33', padding='same', activation=activation))\n",
        "  model.add(layers.MaxPooling2D(pool_size=(2, 2)))\n",
        "  model.add(layers.Dropout(0.3))\n",
        "  model.add(layers.Flatten())\n",
        "  model.add(layers.BatchNormalization())\n",
        "  model.add(layers.Dense(256, name='d1', activation=activation))\n",
        "  model.add(layers.Dense(256, name='d2', activation=activation))\n",
        "  model.add(layers.Dropout(0.3))\n",
        "  model.add(layers.Dense(num_classes, name='softmax', activation='softmax'))\n",
        "  \n",
        "  model.compile(loss='categorical_crossentropy', optimizer=tf.keras.optimizers.Adam(), metrics=['accuracy'])\n",
        "\n",
        "  print(model.summary())\n",
        "  return model\n",
        "\n",
        "model = run_exp(get_vgg_bn_reg_seq(120))"
      ],
      "execution_count": null,
      "outputs": [
        {
          "output_type": "stream",
          "text": [
            "Model: \"vgg_bn_reg_seq\"\n",
            "_________________________________________________________________\n",
            "Layer (type)                 Output Shape              Param #   \n",
            "=================================================================\n",
            "c2d_11 (Conv2D)              (None, 28, 28, 16)        160       \n",
            "_________________________________________________________________\n",
            "c2d_12 (Conv2D)              (None, 28, 28, 16)        2320      \n",
            "_________________________________________________________________\n",
            "c2d_13 (Conv2D)              (None, 28, 28, 16)        2320      \n",
            "_________________________________________________________________\n",
            "max_pooling2d_10 (MaxPooling (None, 14, 14, 16)        0         \n",
            "_________________________________________________________________\n",
            "dropout_17 (Dropout)         (None, 14, 14, 16)        0         \n",
            "_________________________________________________________________\n",
            "batch_normalization_5 (Batch (None, 14, 14, 16)        64        \n",
            "_________________________________________________________________\n",
            "c2d_21 (Conv2D)              (None, 14, 14, 32)        4640      \n",
            "_________________________________________________________________\n",
            "c2d_22 (Conv2D)              (None, 14, 14, 32)        9248      \n",
            "_________________________________________________________________\n",
            "c2d_23 (Conv2D)              (None, 14, 14, 32)        9248      \n",
            "_________________________________________________________________\n",
            "max_pooling2d_11 (MaxPooling (None, 7, 7, 32)          0         \n",
            "_________________________________________________________________\n",
            "dropout_18 (Dropout)         (None, 7, 7, 32)          0         \n",
            "_________________________________________________________________\n",
            "batch_normalization_6 (Batch (None, 7, 7, 32)          128       \n",
            "_________________________________________________________________\n",
            "c2d_31 (Conv2D)              (None, 7, 7, 64)          18496     \n",
            "_________________________________________________________________\n",
            "c2d_32 (Conv2D)              (None, 7, 7, 64)          36928     \n",
            "_________________________________________________________________\n",
            "c2d_33 (Conv2D)              (None, 7, 7, 64)          36928     \n",
            "_________________________________________________________________\n",
            "max_pooling2d_12 (MaxPooling (None, 3, 3, 64)          0         \n",
            "_________________________________________________________________\n",
            "dropout_19 (Dropout)         (None, 3, 3, 64)          0         \n",
            "_________________________________________________________________\n",
            "flatten_3 (Flatten)          (None, 576)               0         \n",
            "_________________________________________________________________\n",
            "batch_normalization_7 (Batch (None, 576)               2304      \n",
            "_________________________________________________________________\n",
            "d1 (Dense)                   (None, 256)               147712    \n",
            "_________________________________________________________________\n",
            "d2 (Dense)                   (None, 256)               65792     \n",
            "_________________________________________________________________\n",
            "dropout_20 (Dropout)         (None, 256)               0         \n",
            "_________________________________________________________________\n",
            "softmax (Dense)              (None, 120)               30840     \n",
            "=================================================================\n",
            "Total params: 367,128\n",
            "Trainable params: 365,880\n",
            "Non-trainable params: 1,248\n",
            "_________________________________________________________________\n",
            "None\n",
            "Epoch 1/20\n",
            "2532/2532 [==============================] - 43s 17ms/step - loss: 1.7184 - accuracy: 0.5673 - val_loss: 1.1242 - val_accuracy: 0.7066\n",
            "Epoch 2/20\n",
            "2532/2532 [==============================] - 43s 17ms/step - loss: 1.2210 - accuracy: 0.6824 - val_loss: 0.9640 - val_accuracy: 0.7490\n",
            "Epoch 3/20\n",
            "2532/2532 [==============================] - 43s 17ms/step - loss: 1.1116 - accuracy: 0.7090 - val_loss: 0.8860 - val_accuracy: 0.7647\n",
            "Epoch 4/20\n",
            "2532/2532 [==============================] - 42s 17ms/step - loss: 1.0522 - accuracy: 0.7241 - val_loss: 0.8638 - val_accuracy: 0.7712\n",
            "Epoch 5/20\n",
            "2532/2532 [==============================] - 43s 17ms/step - loss: 1.0124 - accuracy: 0.7340 - val_loss: 0.8354 - val_accuracy: 0.7782\n",
            "Epoch 6/20\n",
            "2532/2532 [==============================] - 43s 17ms/step - loss: 0.9845 - accuracy: 0.7408 - val_loss: 0.8108 - val_accuracy: 0.7853\n",
            "Epoch 7/20\n",
            "2532/2532 [==============================] - 43s 17ms/step - loss: 0.9618 - accuracy: 0.7466 - val_loss: 0.7909 - val_accuracy: 0.7918\n",
            "Epoch 8/20\n",
            "2532/2532 [==============================] - 42s 17ms/step - loss: 0.9431 - accuracy: 0.7511 - val_loss: 0.7618 - val_accuracy: 0.7980\n",
            "Epoch 9/20\n",
            "2532/2532 [==============================] - 43s 17ms/step - loss: 0.9282 - accuracy: 0.7554 - val_loss: 0.7620 - val_accuracy: 0.7981\n",
            "Epoch 10/20\n",
            "2532/2532 [==============================] - 43s 17ms/step - loss: 0.9164 - accuracy: 0.7580 - val_loss: 0.7576 - val_accuracy: 0.8000\n",
            "Epoch 11/20\n",
            "2532/2532 [==============================] - 43s 17ms/step - loss: 0.9027 - accuracy: 0.7608 - val_loss: 0.7590 - val_accuracy: 0.7974\n",
            "Epoch 12/20\n",
            "2532/2532 [==============================] - 43s 17ms/step - loss: 0.8944 - accuracy: 0.7632 - val_loss: 0.7466 - val_accuracy: 0.8018\n",
            "Epoch 13/20\n",
            "2532/2532 [==============================] - 43s 17ms/step - loss: 0.8843 - accuracy: 0.7654 - val_loss: 0.7463 - val_accuracy: 0.8032\n",
            "Epoch 14/20\n",
            "2532/2532 [==============================] - 42s 17ms/step - loss: 0.8765 - accuracy: 0.7681 - val_loss: 0.7258 - val_accuracy: 0.8081\n",
            "Epoch 15/20\n",
            "2532/2532 [==============================] - 42s 17ms/step - loss: 0.8706 - accuracy: 0.7694 - val_loss: 0.7303 - val_accuracy: 0.8064\n",
            "Epoch 16/20\n",
            "2532/2532 [==============================] - 43s 17ms/step - loss: 0.8636 - accuracy: 0.7708 - val_loss: 0.7342 - val_accuracy: 0.8063\n",
            "Epoch 17/20\n",
            "2532/2532 [==============================] - 42s 17ms/step - loss: 0.8580 - accuracy: 0.7720 - val_loss: 0.7275 - val_accuracy: 0.8063\n",
            "Epoch 18/20\n",
            "2532/2532 [==============================] - 42s 17ms/step - loss: 0.8527 - accuracy: 0.7739 - val_loss: 0.7229 - val_accuracy: 0.8099\n",
            "Epoch 19/20\n",
            "2532/2532 [==============================] - 42s 17ms/step - loss: 0.8458 - accuracy: 0.7752 - val_loss: 0.7177 - val_accuracy: 0.8089\n",
            "Epoch 20/20\n",
            "2532/2532 [==============================] - 42s 17ms/step - loss: 0.8426 - accuracy: 0.7763 - val_loss: 0.7266 - val_accuracy: 0.8084\n",
            "5625/5625 [==============================] - 16s 3ms/step - loss: 0.7381 - accuracy: 0.8077\n",
            "Test accuarcy: 80.77%\n",
            "----------\n",
            "5625/5625 - 10s\n",
            "              precision    recall  f1-score   support\n",
            "\n",
            "           0       0.94      0.89      0.91      1514\n",
            "           1       0.48      0.49      0.48      1507\n",
            "           2       0.70      0.91      0.79      1485\n",
            "           3       0.76      0.61      0.67      1495\n",
            "           4       0.89      0.86      0.87      1516\n",
            "           5       0.80      0.71      0.75      1491\n",
            "           6       0.91      0.91      0.91      1551\n",
            "           7       0.90      0.91      0.91      1524\n",
            "           8       0.85      0.79      0.82      1511\n",
            "           9       0.56      0.77      0.65      1517\n",
            "          10       0.90      0.80      0.85      1525\n",
            "          11       0.71      0.86      0.78      1442\n",
            "          12       0.47      0.65      0.54      1470\n",
            "          13       0.90      0.82      0.86      1532\n",
            "          14       0.84      0.62      0.71      1455\n",
            "          15       0.57      0.65      0.61      1565\n",
            "          16       0.86      0.81      0.83      1493\n",
            "          17       0.81      0.86      0.83      1475\n",
            "          18       0.94      0.93      0.94      1482\n",
            "          19       0.83      0.83      0.83      1515\n",
            "          20       0.79      0.81      0.80      1522\n",
            "          21       0.90      0.89      0.90      1534\n",
            "          22       0.70      0.42      0.53      1495\n",
            "          23       0.72      0.87      0.79      1477\n",
            "          24       0.78      0.83      0.81      1549\n",
            "          25       0.71      0.72      0.71      1459\n",
            "          26       0.85      0.85      0.85      1494\n",
            "          27       0.90      0.83      0.87      1562\n",
            "          28       0.87      0.92      0.89      1486\n",
            "          29       0.47      0.58      0.52      1504\n",
            "          30       0.74      0.79      0.76      1488\n",
            "          31       0.94      0.85      0.89      1509\n",
            "          32       0.91      0.88      0.90      1581\n",
            "          33       0.70      0.70      0.70      1492\n",
            "          34       0.87      0.90      0.88      1514\n",
            "          35       0.75      0.88      0.81      1519\n",
            "          36       0.81      0.76      0.78      1447\n",
            "          37       0.86      0.84      0.85      1523\n",
            "          38       0.91      0.90      0.90      1499\n",
            "          39       0.84      0.74      0.78      1496\n",
            "          40       0.71      0.93      0.81      1400\n",
            "          41       0.78      0.83      0.81      1478\n",
            "          42       0.70      0.88      0.78      1543\n",
            "          43       0.70      0.88      0.78      1498\n",
            "          44       0.89      0.89      0.89      1568\n",
            "          45       0.84      0.79      0.81      1494\n",
            "          46       0.88      0.75      0.81      1513\n",
            "          47       0.90      0.79      0.84      1526\n",
            "          48       0.70      0.64      0.67      1536\n",
            "          49       0.91      0.86      0.89      1509\n",
            "          50       0.81      0.77      0.79      1452\n",
            "          51       0.91      0.73      0.81      1526\n",
            "          52       0.93      0.80      0.86      1527\n",
            "          53       0.61      0.75      0.67      1451\n",
            "          54       0.84      0.91      0.88      1518\n",
            "          55       0.93      0.89      0.91      1471\n",
            "          56       0.92      0.84      0.88      1535\n",
            "          57       0.87      0.87      0.87      1489\n",
            "          58       0.84      0.77      0.80      1478\n",
            "          59       0.86      0.80      0.83      1496\n",
            "          60       0.88      0.82      0.85      1465\n",
            "          61       0.94      0.87      0.90      1507\n",
            "          62       0.97      0.89      0.92      1526\n",
            "          63       0.80      0.70      0.75      1538\n",
            "          64       0.88      0.90      0.89      1503\n",
            "          65       0.76      0.82      0.79      1549\n",
            "          66       0.79      0.67      0.72      1492\n",
            "          67       0.79      0.82      0.81      1563\n",
            "          68       0.75      0.83      0.79      1458\n",
            "          69       0.75      0.79      0.77      1488\n",
            "          70       0.74      0.59      0.66      1506\n",
            "          71       0.90      0.88      0.89      1479\n",
            "          72       0.94      0.89      0.92      1503\n",
            "          73       0.79      0.76      0.77      1508\n",
            "          74       0.76      0.68      0.72      1549\n",
            "          75       0.87      0.88      0.88      1505\n",
            "          76       0.85      0.85      0.85      1492\n",
            "          77       0.78      0.80      0.79      1423\n",
            "          78       0.89      0.94      0.91      1563\n",
            "          79       0.75      0.75      0.75      1500\n",
            "          80       0.70      0.50      0.58      1529\n",
            "          81       0.83      0.88      0.86      1495\n",
            "          82       0.87      0.77      0.82      1536\n",
            "          83       0.75      0.80      0.77      1464\n",
            "          84       0.83      0.85      0.84      1457\n",
            "          85       0.91      0.82      0.87      1474\n",
            "          86       0.91      0.89      0.90      1517\n",
            "          87       0.87      0.87      0.87      1529\n",
            "          88       0.85      0.79      0.82      1499\n",
            "          89       0.78      0.86      0.81      1495\n",
            "          90       0.94      0.92      0.93      1467\n",
            "          91       0.89      0.86      0.87      1463\n",
            "          92       0.74      0.65      0.69      1525\n",
            "          93       0.90      0.84      0.87      1476\n",
            "          94       0.68      0.67      0.68      1500\n",
            "          95       0.88      0.86      0.87      1527\n",
            "          96       0.51      0.83      0.64      1519\n",
            "          97       0.82      0.75      0.79      1484\n",
            "          98       0.98      0.95      0.96      1448\n",
            "          99       0.94      0.94      0.94      1537\n",
            "         100       0.82      0.93      0.87      1473\n",
            "         101       0.95      0.93      0.94      1448\n",
            "         102       0.65      0.74      0.69      1444\n",
            "         103       0.82      0.85      0.84      1491\n",
            "         104       0.82      0.71      0.76      1508\n",
            "         105       0.79      0.77      0.78      1435\n",
            "         106       0.90      0.88      0.89      1529\n",
            "         107       0.87      0.94      0.90      1476\n",
            "         108       0.76      0.75      0.76      1482\n",
            "         109       0.94      0.93      0.94      1500\n",
            "         110       0.84      0.78      0.81      1478\n",
            "         111       0.93      0.91      0.92      1492\n",
            "         112       0.88      0.87      0.88      1447\n",
            "         113       0.81      0.73      0.77      1538\n",
            "         114       0.76      0.61      0.68      1515\n",
            "         115       0.77      0.77      0.77      1495\n",
            "         116       0.79      0.88      0.83      1472\n",
            "         117       0.79      0.80      0.79      1498\n",
            "         118       0.95      0.91      0.93      1483\n",
            "         119       0.67      0.83      0.74      1515\n",
            "\n",
            "    accuracy                           0.81    180000\n",
            "   macro avg       0.82      0.81      0.81    180000\n",
            "weighted avg       0.82      0.81      0.81    180000\n",
            "\n",
            "----------\n",
            "HammingLoss:  0.1922888888888889\n"
          ],
          "name": "stdout"
        }
      ]
    },
    {
      "cell_type": "code",
      "metadata": {
        "id": "YWJg5cZACIY8",
        "colab_type": "code",
        "colab": {}
      },
      "source": [
        "# import tensorflowjs as tfjs\n",
        "# name = 'qd_vgg_81.h5'\n",
        "# model.save(name)\n",
        "# tfjs.converters.save_keras_model(model, 'qd_vgg_81_tfjs')\n",
        "\n",
        "# !gsutil cp -r qd_vgg_81_tfjs gs://ml_workspace/quick_draw/model\n",
        "# !gsutil cp qd_vgg_81.h5 gs://ml_workspace/quick_draw/model/qd_vgg_81.h5\n",
        "\n"
      ],
      "execution_count": null,
      "outputs": []
    },
    {
      "cell_type": "code",
      "metadata": {
        "id": "608afjYXr_dz",
        "colab_type": "code",
        "colab": {}
      },
      "source": [
        "# classes = ','.join(class_names)\n",
        "# text_file = open(\"classes.txt\", \"w\")\n",
        "# n = text_file.write(classes)\n",
        "# text_file.close()\n",
        "# !more classes.txt\n",
        "\n",
        "# !gsutil cp classes.txt gs://ml_workspace/quick_draw/model/qd_vgg_81_tfjs/classes.txt"
      ],
      "execution_count": null,
      "outputs": []
    }
  ]
}