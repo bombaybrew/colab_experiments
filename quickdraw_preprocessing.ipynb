{
  "nbformat": 4,
  "nbformat_minor": 0,
  "metadata": {
    "colab": {
      "name": " quickdraw_preprocessing.ipynb",
      "provenance": [],
      "collapsed_sections": [],
      "authorship_tag": "ABX9TyPASiB1Xt2Bav+atdaFWXN8",
      "include_colab_link": true
    },
    "kernelspec": {
      "name": "python3",
      "display_name": "Python 3"
    }
  },
  "cells": [
    {
      "cell_type": "markdown",
      "metadata": {
        "id": "view-in-github",
        "colab_type": "text"
      },
      "source": [
        "<a href=\"https://colab.research.google.com/github/bombaybrew/colab_experiments/blob/master/quickdraw_preprocessing.ipynb\" target=\"_parent\"><img src=\"https://colab.research.google.com/assets/colab-badge.svg\" alt=\"Open In Colab\"/></a>"
      ]
    },
    {
      "cell_type": "code",
      "metadata": {
        "id": "FTq5pvsZnGWE",
        "colab_type": "code",
        "colab": {
          "base_uri": "https://localhost:8080/",
          "height": 315
        },
        "outputId": "10c44b69-5ad1-4109-888a-46d97f7c3199"
      },
      "source": [
        "!gcloud auth login\n",
        "!gcloud config set project 'upheld-quanta-284618'"
      ],
      "execution_count": 31,
      "outputs": [
        {
          "output_type": "stream",
          "text": [
            "Go to the following link in your browser:\n",
            "\n",
            "    https://accounts.google.com/o/oauth2/auth?client_id=32555940559.apps.googleusercontent.com&redirect_uri=urn%3Aietf%3Awg%3Aoauth%3A2.0%3Aoob&scope=openid+https%3A%2F%2Fwww.googleapis.com%2Fauth%2Fuserinfo.email+https%3A%2F%2Fwww.googleapis.com%2Fauth%2Fcloud-platform+https%3A%2F%2Fwww.googleapis.com%2Fauth%2Fappengine.admin+https%3A%2F%2Fwww.googleapis.com%2Fauth%2Fcompute+https%3A%2F%2Fwww.googleapis.com%2Fauth%2Faccounts.reauth&code_challenge=ADQ-ngKLO65tg8UfuUPVtchyS8UYplMMxgupyHo9u_k&code_challenge_method=S256&access_type=offline&response_type=code&prompt=select_account\n",
            "\n",
            "\n",
            "Enter verification code: 4/3QGxZ_KnbBsjkHWRcEYt_-nk6ubPx6tWyeJgxPE3neABSacMGIDauSQ\n",
            "\n",
            "You are now logged in as [bombaybrew.studio@gmail.com].\n",
            "Your current project is [None].  You can change this setting by running:\n",
            "  $ gcloud config set project PROJECT_ID\n",
            "\n",
            "\n",
            "To take a quick anonymous survey, run:\n",
            "  $ gcloud survey\n",
            "\n",
            "Updated property [core/project].\n"
          ],
          "name": "stdout"
        }
      ]
    },
    {
      "cell_type": "code",
      "metadata": {
        "id": "_GY-xacwnf6T",
        "colab_type": "code",
        "colab": {}
      },
      "source": [
        "# !gsutil cp gs://ml_workspace/quick_draw/config/comet.config .comet.config\n",
        "# !gsutil cp gs://ml_workspace/quick_draw/ds_20k.zip data.zip"
      ],
      "execution_count": null,
      "outputs": []
    },
    {
      "cell_type": "code",
      "metadata": {
        "id": "r3bYYXF_ZWA9",
        "colab_type": "code",
        "colab": {}
      },
      "source": [
        "# classes = ['airplane','apple']\n",
        "\n",
        "classes = ['airplane','apple','ant','axe','banana','baseball','bee','beach','bird','book','bucket','bus','butterfly','cactus','cake','cannon','car','carrot','castle',\n",
        "            'cat','chair','church','circle','clock','cloud','computer','cookie','cow','crab','crayon','cup','dolphin','donut','door','dragon','diamond','drums','duck',\n",
        "            'ear','elephant','envelope','eraser','eye','face','fan','finger','fish','flower','frog','garden','grapes','grass','guitar','hammer','hand','hat','helmet',\n",
        "            'horse','house','hospital','jail','kangaroo','knife','laptop','leg','lion','lollipop','map','microwave','monkey','moon','mountain','mouse','mug','nail',\n",
        "            'nose','onion','owl','panda','parachute','parrot','passport','peanut','pencil','piano','pig','pizza','potato','rabbit','radio','rain','rainbow','river',\n",
        "            'sandwich','saw','sun','shark','shoe','skull','snail','snowflake','spider','square','stairs','star','stove','strawberry','table','teapot','television','tent',\n",
        "            'toilet','toothbrush','toothpaste','train','triangle','truck','umbrella','whale','zebra']"
      ],
      "execution_count": 16,
      "outputs": []
    },
    {
      "cell_type": "code",
      "metadata": {
        "id": "GmtoTxG2kKno",
        "colab_type": "code",
        "colab": {}
      },
      "source": [
        "import urllib.request\n",
        "def download():\n",
        "  \n",
        "  base = 'https://storage.googleapis.com/quickdraw_dataset/full/numpy_bitmap/'\n",
        "  for c in classes:\n",
        "    cls_url = c.replace('_', '%20')\n",
        "    path = base+cls_url+'.npy'\n",
        "    print(path)\n",
        "    urllib.request.urlretrieve(path, 'data/'+c+'.npy')"
      ],
      "execution_count": 17,
      "outputs": []
    },
    {
      "cell_type": "code",
      "metadata": {
        "id": "_xy7JDRVnEU3",
        "colab_type": "code",
        "colab": {
          "base_uri": "https://localhost:8080/",
          "height": 1000
        },
        "outputId": "76b76bf7-b0f8-4dcf-8b45-cc58555e90ec"
      },
      "source": [
        "# !mkdir data\n",
        "# !mkdir data_processed\n",
        "download()"
      ],
      "execution_count": 18,
      "outputs": [
        {
          "output_type": "stream",
          "text": [
            "https://storage.googleapis.com/quickdraw_dataset/full/numpy_bitmap/airplane.npy\n",
            "https://storage.googleapis.com/quickdraw_dataset/full/numpy_bitmap/apple.npy\n",
            "https://storage.googleapis.com/quickdraw_dataset/full/numpy_bitmap/ant.npy\n",
            "https://storage.googleapis.com/quickdraw_dataset/full/numpy_bitmap/axe.npy\n",
            "https://storage.googleapis.com/quickdraw_dataset/full/numpy_bitmap/banana.npy\n",
            "https://storage.googleapis.com/quickdraw_dataset/full/numpy_bitmap/baseball.npy\n",
            "https://storage.googleapis.com/quickdraw_dataset/full/numpy_bitmap/bee.npy\n",
            "https://storage.googleapis.com/quickdraw_dataset/full/numpy_bitmap/beach.npy\n",
            "https://storage.googleapis.com/quickdraw_dataset/full/numpy_bitmap/bird.npy\n",
            "https://storage.googleapis.com/quickdraw_dataset/full/numpy_bitmap/book.npy\n",
            "https://storage.googleapis.com/quickdraw_dataset/full/numpy_bitmap/bucket.npy\n",
            "https://storage.googleapis.com/quickdraw_dataset/full/numpy_bitmap/bus.npy\n",
            "https://storage.googleapis.com/quickdraw_dataset/full/numpy_bitmap/butterfly.npy\n",
            "https://storage.googleapis.com/quickdraw_dataset/full/numpy_bitmap/cactus.npy\n",
            "https://storage.googleapis.com/quickdraw_dataset/full/numpy_bitmap/cake.npy\n",
            "https://storage.googleapis.com/quickdraw_dataset/full/numpy_bitmap/cannon.npy\n",
            "https://storage.googleapis.com/quickdraw_dataset/full/numpy_bitmap/car.npy\n",
            "https://storage.googleapis.com/quickdraw_dataset/full/numpy_bitmap/carrot.npy\n",
            "https://storage.googleapis.com/quickdraw_dataset/full/numpy_bitmap/castle.npy\n",
            "https://storage.googleapis.com/quickdraw_dataset/full/numpy_bitmap/cat.npy\n",
            "https://storage.googleapis.com/quickdraw_dataset/full/numpy_bitmap/chair.npy\n",
            "https://storage.googleapis.com/quickdraw_dataset/full/numpy_bitmap/church.npy\n",
            "https://storage.googleapis.com/quickdraw_dataset/full/numpy_bitmap/circle.npy\n",
            "https://storage.googleapis.com/quickdraw_dataset/full/numpy_bitmap/clock.npy\n",
            "https://storage.googleapis.com/quickdraw_dataset/full/numpy_bitmap/cloud.npy\n",
            "https://storage.googleapis.com/quickdraw_dataset/full/numpy_bitmap/computer.npy\n",
            "https://storage.googleapis.com/quickdraw_dataset/full/numpy_bitmap/cookie.npy\n",
            "https://storage.googleapis.com/quickdraw_dataset/full/numpy_bitmap/cow.npy\n",
            "https://storage.googleapis.com/quickdraw_dataset/full/numpy_bitmap/crab.npy\n",
            "https://storage.googleapis.com/quickdraw_dataset/full/numpy_bitmap/crayon.npy\n",
            "https://storage.googleapis.com/quickdraw_dataset/full/numpy_bitmap/cup.npy\n",
            "https://storage.googleapis.com/quickdraw_dataset/full/numpy_bitmap/dolphin.npy\n",
            "https://storage.googleapis.com/quickdraw_dataset/full/numpy_bitmap/donut.npy\n",
            "https://storage.googleapis.com/quickdraw_dataset/full/numpy_bitmap/door.npy\n",
            "https://storage.googleapis.com/quickdraw_dataset/full/numpy_bitmap/dragon.npy\n",
            "https://storage.googleapis.com/quickdraw_dataset/full/numpy_bitmap/diamond.npy\n",
            "https://storage.googleapis.com/quickdraw_dataset/full/numpy_bitmap/drums.npy\n",
            "https://storage.googleapis.com/quickdraw_dataset/full/numpy_bitmap/duck.npy\n",
            "https://storage.googleapis.com/quickdraw_dataset/full/numpy_bitmap/ear.npy\n",
            "https://storage.googleapis.com/quickdraw_dataset/full/numpy_bitmap/elephant.npy\n",
            "https://storage.googleapis.com/quickdraw_dataset/full/numpy_bitmap/envelope.npy\n",
            "https://storage.googleapis.com/quickdraw_dataset/full/numpy_bitmap/eraser.npy\n",
            "https://storage.googleapis.com/quickdraw_dataset/full/numpy_bitmap/eye.npy\n",
            "https://storage.googleapis.com/quickdraw_dataset/full/numpy_bitmap/face.npy\n",
            "https://storage.googleapis.com/quickdraw_dataset/full/numpy_bitmap/fan.npy\n",
            "https://storage.googleapis.com/quickdraw_dataset/full/numpy_bitmap/finger.npy\n",
            "https://storage.googleapis.com/quickdraw_dataset/full/numpy_bitmap/fish.npy\n",
            "https://storage.googleapis.com/quickdraw_dataset/full/numpy_bitmap/flower.npy\n",
            "https://storage.googleapis.com/quickdraw_dataset/full/numpy_bitmap/frog.npy\n",
            "https://storage.googleapis.com/quickdraw_dataset/full/numpy_bitmap/garden.npy\n",
            "https://storage.googleapis.com/quickdraw_dataset/full/numpy_bitmap/grapes.npy\n",
            "https://storage.googleapis.com/quickdraw_dataset/full/numpy_bitmap/grass.npy\n",
            "https://storage.googleapis.com/quickdraw_dataset/full/numpy_bitmap/guitar.npy\n",
            "https://storage.googleapis.com/quickdraw_dataset/full/numpy_bitmap/hammer.npy\n",
            "https://storage.googleapis.com/quickdraw_dataset/full/numpy_bitmap/hand.npy\n",
            "https://storage.googleapis.com/quickdraw_dataset/full/numpy_bitmap/hat.npy\n",
            "https://storage.googleapis.com/quickdraw_dataset/full/numpy_bitmap/helmet.npy\n",
            "https://storage.googleapis.com/quickdraw_dataset/full/numpy_bitmap/horse.npy\n",
            "https://storage.googleapis.com/quickdraw_dataset/full/numpy_bitmap/house.npy\n",
            "https://storage.googleapis.com/quickdraw_dataset/full/numpy_bitmap/hospital.npy\n",
            "https://storage.googleapis.com/quickdraw_dataset/full/numpy_bitmap/jail.npy\n",
            "https://storage.googleapis.com/quickdraw_dataset/full/numpy_bitmap/kangaroo.npy\n",
            "https://storage.googleapis.com/quickdraw_dataset/full/numpy_bitmap/knife.npy\n",
            "https://storage.googleapis.com/quickdraw_dataset/full/numpy_bitmap/laptop.npy\n",
            "https://storage.googleapis.com/quickdraw_dataset/full/numpy_bitmap/leg.npy\n",
            "https://storage.googleapis.com/quickdraw_dataset/full/numpy_bitmap/lion.npy\n",
            "https://storage.googleapis.com/quickdraw_dataset/full/numpy_bitmap/lollipop.npy\n",
            "https://storage.googleapis.com/quickdraw_dataset/full/numpy_bitmap/map.npy\n",
            "https://storage.googleapis.com/quickdraw_dataset/full/numpy_bitmap/microwave.npy\n",
            "https://storage.googleapis.com/quickdraw_dataset/full/numpy_bitmap/monkey.npy\n",
            "https://storage.googleapis.com/quickdraw_dataset/full/numpy_bitmap/moon.npy\n",
            "https://storage.googleapis.com/quickdraw_dataset/full/numpy_bitmap/mountain.npy\n",
            "https://storage.googleapis.com/quickdraw_dataset/full/numpy_bitmap/mouse.npy\n",
            "https://storage.googleapis.com/quickdraw_dataset/full/numpy_bitmap/mug.npy\n",
            "https://storage.googleapis.com/quickdraw_dataset/full/numpy_bitmap/nail.npy\n",
            "https://storage.googleapis.com/quickdraw_dataset/full/numpy_bitmap/nose.npy\n",
            "https://storage.googleapis.com/quickdraw_dataset/full/numpy_bitmap/onion.npy\n",
            "https://storage.googleapis.com/quickdraw_dataset/full/numpy_bitmap/owl.npy\n",
            "https://storage.googleapis.com/quickdraw_dataset/full/numpy_bitmap/panda.npy\n",
            "https://storage.googleapis.com/quickdraw_dataset/full/numpy_bitmap/parachute.npy\n",
            "https://storage.googleapis.com/quickdraw_dataset/full/numpy_bitmap/parrot.npy\n",
            "https://storage.googleapis.com/quickdraw_dataset/full/numpy_bitmap/passport.npy\n",
            "https://storage.googleapis.com/quickdraw_dataset/full/numpy_bitmap/peanut.npy\n",
            "https://storage.googleapis.com/quickdraw_dataset/full/numpy_bitmap/pencil.npy\n",
            "https://storage.googleapis.com/quickdraw_dataset/full/numpy_bitmap/piano.npy\n",
            "https://storage.googleapis.com/quickdraw_dataset/full/numpy_bitmap/pig.npy\n",
            "https://storage.googleapis.com/quickdraw_dataset/full/numpy_bitmap/pizza.npy\n",
            "https://storage.googleapis.com/quickdraw_dataset/full/numpy_bitmap/potato.npy\n",
            "https://storage.googleapis.com/quickdraw_dataset/full/numpy_bitmap/rabbit.npy\n",
            "https://storage.googleapis.com/quickdraw_dataset/full/numpy_bitmap/radio.npy\n",
            "https://storage.googleapis.com/quickdraw_dataset/full/numpy_bitmap/rain.npy\n",
            "https://storage.googleapis.com/quickdraw_dataset/full/numpy_bitmap/rainbow.npy\n",
            "https://storage.googleapis.com/quickdraw_dataset/full/numpy_bitmap/river.npy\n",
            "https://storage.googleapis.com/quickdraw_dataset/full/numpy_bitmap/sandwich.npy\n",
            "https://storage.googleapis.com/quickdraw_dataset/full/numpy_bitmap/saw.npy\n",
            "https://storage.googleapis.com/quickdraw_dataset/full/numpy_bitmap/sun.npy\n",
            "https://storage.googleapis.com/quickdraw_dataset/full/numpy_bitmap/shark.npy\n",
            "https://storage.googleapis.com/quickdraw_dataset/full/numpy_bitmap/shoe.npy\n",
            "https://storage.googleapis.com/quickdraw_dataset/full/numpy_bitmap/skull.npy\n",
            "https://storage.googleapis.com/quickdraw_dataset/full/numpy_bitmap/snail.npy\n",
            "https://storage.googleapis.com/quickdraw_dataset/full/numpy_bitmap/snowflake.npy\n",
            "https://storage.googleapis.com/quickdraw_dataset/full/numpy_bitmap/spider.npy\n",
            "https://storage.googleapis.com/quickdraw_dataset/full/numpy_bitmap/square.npy\n",
            "https://storage.googleapis.com/quickdraw_dataset/full/numpy_bitmap/stairs.npy\n",
            "https://storage.googleapis.com/quickdraw_dataset/full/numpy_bitmap/star.npy\n",
            "https://storage.googleapis.com/quickdraw_dataset/full/numpy_bitmap/stove.npy\n",
            "https://storage.googleapis.com/quickdraw_dataset/full/numpy_bitmap/strawberry.npy\n",
            "https://storage.googleapis.com/quickdraw_dataset/full/numpy_bitmap/table.npy\n",
            "https://storage.googleapis.com/quickdraw_dataset/full/numpy_bitmap/teapot.npy\n",
            "https://storage.googleapis.com/quickdraw_dataset/full/numpy_bitmap/television.npy\n",
            "https://storage.googleapis.com/quickdraw_dataset/full/numpy_bitmap/tent.npy\n",
            "https://storage.googleapis.com/quickdraw_dataset/full/numpy_bitmap/toilet.npy\n",
            "https://storage.googleapis.com/quickdraw_dataset/full/numpy_bitmap/toothbrush.npy\n",
            "https://storage.googleapis.com/quickdraw_dataset/full/numpy_bitmap/toothpaste.npy\n",
            "https://storage.googleapis.com/quickdraw_dataset/full/numpy_bitmap/train.npy\n",
            "https://storage.googleapis.com/quickdraw_dataset/full/numpy_bitmap/triangle.npy\n",
            "https://storage.googleapis.com/quickdraw_dataset/full/numpy_bitmap/truck.npy\n",
            "https://storage.googleapis.com/quickdraw_dataset/full/numpy_bitmap/umbrella.npy\n",
            "https://storage.googleapis.com/quickdraw_dataset/full/numpy_bitmap/whale.npy\n",
            "https://storage.googleapis.com/quickdraw_dataset/full/numpy_bitmap/zebra.npy\n"
          ],
          "name": "stdout"
        }
      ]
    },
    {
      "cell_type": "code",
      "metadata": {
        "id": "ebqxC45znzvA",
        "colab_type": "code",
        "colab": {}
      },
      "source": [
        "# IMPORTS\n",
        "\n",
        "import os\n",
        "import glob\n",
        "import numpy as np\n",
        "import pandas as pd"
      ],
      "execution_count": 19,
      "outputs": []
    },
    {
      "cell_type": "code",
      "metadata": {
        "id": "Sl6hD7lmCkmS",
        "colab_type": "code",
        "colab": {}
      },
      "source": [
        "def create_data_subset(max_items_per_file=2000, max_items_per_class=30000):\n",
        "  files = glob.iglob(\"data/*.npy\")\n",
        "  print('create_data_subset with sample size ', max_items_per_file)\n",
        "\n",
        "  for class_name in classes:\n",
        "    print('processing', 'data/'+class_name+'.npy')\n",
        "    temp = np.load('data/'+class_name+'.npy')\n",
        "    np.random.shuffle(temp)\n",
        "    temp = temp[0: max_items_per_class, :]\n",
        "    for count in range(15):\n",
        "      if not os.path.exists('data_processed/'+str(count)):\n",
        "        os.makedirs('data_processed/'+str(count))\n",
        "      np.save('data_processed/'+str(count)+'/'+class_name+'.npy', temp[max_items_per_file*count: max_items_per_file*(count+1), :])"
      ],
      "execution_count": 20,
      "outputs": []
    },
    {
      "cell_type": "code",
      "metadata": {
        "id": "bA7Qpxh1cHmZ",
        "colab_type": "code",
        "colab": {
          "base_uri": "https://localhost:8080/",
          "height": 34
        },
        "outputId": "a6221fbb-1e2c-4f6d-a51b-cea00c260368"
      },
      "source": [
        ""
      ],
      "execution_count": null,
      "outputs": [
        {
          "output_type": "execute_result",
          "data": {
            "text/plain": [
              "(151623, 784)"
            ]
          },
          "metadata": {
            "tags": []
          },
          "execution_count": 26
        }
      ]
    },
    {
      "cell_type": "code",
      "metadata": {
        "id": "zSkCDaVzDf6f",
        "colab_type": "code",
        "colab": {
          "base_uri": "https://localhost:8080/",
          "height": 1000
        },
        "outputId": "62f53a52-f8ea-4bb2-c8dd-a22f24db86ee"
      },
      "source": [
        "create_data_subset()"
      ],
      "execution_count": 21,
      "outputs": [
        {
          "output_type": "stream",
          "text": [
            "create_data_subset with sample size  2000\n",
            "processing data/airplane.npy\n",
            "processing data/apple.npy\n",
            "processing data/ant.npy\n",
            "processing data/axe.npy\n",
            "processing data/banana.npy\n",
            "processing data/baseball.npy\n",
            "processing data/bee.npy\n",
            "processing data/beach.npy\n",
            "processing data/bird.npy\n",
            "processing data/book.npy\n",
            "processing data/bucket.npy\n",
            "processing data/bus.npy\n",
            "processing data/butterfly.npy\n",
            "processing data/cactus.npy\n",
            "processing data/cake.npy\n",
            "processing data/cannon.npy\n",
            "processing data/car.npy\n",
            "processing data/carrot.npy\n",
            "processing data/castle.npy\n",
            "processing data/cat.npy\n",
            "processing data/chair.npy\n",
            "processing data/church.npy\n",
            "processing data/circle.npy\n",
            "processing data/clock.npy\n",
            "processing data/cloud.npy\n",
            "processing data/computer.npy\n",
            "processing data/cookie.npy\n",
            "processing data/cow.npy\n",
            "processing data/crab.npy\n",
            "processing data/crayon.npy\n",
            "processing data/cup.npy\n",
            "processing data/dolphin.npy\n",
            "processing data/donut.npy\n",
            "processing data/door.npy\n",
            "processing data/dragon.npy\n",
            "processing data/diamond.npy\n",
            "processing data/drums.npy\n",
            "processing data/duck.npy\n",
            "processing data/ear.npy\n",
            "processing data/elephant.npy\n",
            "processing data/envelope.npy\n",
            "processing data/eraser.npy\n",
            "processing data/eye.npy\n",
            "processing data/face.npy\n",
            "processing data/fan.npy\n",
            "processing data/finger.npy\n",
            "processing data/fish.npy\n",
            "processing data/flower.npy\n",
            "processing data/frog.npy\n",
            "processing data/garden.npy\n",
            "processing data/grapes.npy\n",
            "processing data/grass.npy\n",
            "processing data/guitar.npy\n",
            "processing data/hammer.npy\n",
            "processing data/hand.npy\n",
            "processing data/hat.npy\n",
            "processing data/helmet.npy\n",
            "processing data/horse.npy\n",
            "processing data/house.npy\n",
            "processing data/hospital.npy\n",
            "processing data/jail.npy\n",
            "processing data/kangaroo.npy\n",
            "processing data/knife.npy\n",
            "processing data/laptop.npy\n",
            "processing data/leg.npy\n",
            "processing data/lion.npy\n",
            "processing data/lollipop.npy\n",
            "processing data/map.npy\n",
            "processing data/microwave.npy\n",
            "processing data/monkey.npy\n",
            "processing data/moon.npy\n",
            "processing data/mountain.npy\n",
            "processing data/mouse.npy\n",
            "processing data/mug.npy\n",
            "processing data/nail.npy\n",
            "processing data/nose.npy\n",
            "processing data/onion.npy\n",
            "processing data/owl.npy\n",
            "processing data/panda.npy\n",
            "processing data/parachute.npy\n",
            "processing data/parrot.npy\n",
            "processing data/passport.npy\n",
            "processing data/peanut.npy\n",
            "processing data/pencil.npy\n",
            "processing data/piano.npy\n",
            "processing data/pig.npy\n",
            "processing data/pizza.npy\n",
            "processing data/potato.npy\n",
            "processing data/rabbit.npy\n",
            "processing data/radio.npy\n",
            "processing data/rain.npy\n",
            "processing data/rainbow.npy\n",
            "processing data/river.npy\n",
            "processing data/sandwich.npy\n",
            "processing data/saw.npy\n",
            "processing data/sun.npy\n",
            "processing data/shark.npy\n",
            "processing data/shoe.npy\n",
            "processing data/skull.npy\n",
            "processing data/snail.npy\n",
            "processing data/snowflake.npy\n",
            "processing data/spider.npy\n",
            "processing data/square.npy\n",
            "processing data/stairs.npy\n",
            "processing data/star.npy\n",
            "processing data/stove.npy\n",
            "processing data/strawberry.npy\n",
            "processing data/table.npy\n",
            "processing data/teapot.npy\n",
            "processing data/television.npy\n",
            "processing data/tent.npy\n",
            "processing data/toilet.npy\n",
            "processing data/toothbrush.npy\n",
            "processing data/toothpaste.npy\n",
            "processing data/train.npy\n",
            "processing data/triangle.npy\n",
            "processing data/truck.npy\n",
            "processing data/umbrella.npy\n",
            "processing data/whale.npy\n",
            "processing data/zebra.npy\n"
          ],
          "name": "stdout"
        }
      ]
    },
    {
      "cell_type": "code",
      "metadata": {
        "id": "76ktjAFSIFTy",
        "colab_type": "code",
        "colab": {
          "base_uri": "https://localhost:8080/",
          "height": 330
        },
        "outputId": "f637435a-1bf2-4ec5-aadf-2405962c076b"
      },
      "source": [
        "# !zip -r ds.zip data\n",
        "!ls -lah data_processed\n"
      ],
      "execution_count": 24,
      "outputs": [
        {
          "output_type": "stream",
          "text": [
            "total 68K\n",
            "drwxr-xr-x 17 root root 4.0K Aug 23 16:51 .\n",
            "drwxr-xr-x  1 root root 4.0K Aug 23 16:50 ..\n",
            "drwxr-xr-x  2 root root 4.0K Aug 23 17:34 0\n",
            "drwxr-xr-x  2 root root 4.0K Aug 23 17:34 1\n",
            "drwxr-xr-x  2 root root 4.0K Aug 23 17:34 10\n",
            "drwxr-xr-x  2 root root 4.0K Aug 23 17:34 11\n",
            "drwxr-xr-x  2 root root 4.0K Aug 23 17:34 12\n",
            "drwxr-xr-x  2 root root 4.0K Aug 23 17:34 13\n",
            "drwxr-xr-x  2 root root 4.0K Aug 23 17:34 14\n",
            "drwxr-xr-x  2 root root 4.0K Aug 23 17:34 2\n",
            "drwxr-xr-x  2 root root 4.0K Aug 23 17:34 3\n",
            "drwxr-xr-x  2 root root 4.0K Aug 23 17:34 4\n",
            "drwxr-xr-x  2 root root 4.0K Aug 23 17:34 5\n",
            "drwxr-xr-x  2 root root 4.0K Aug 23 17:34 6\n",
            "drwxr-xr-x  2 root root 4.0K Aug 23 17:34 7\n",
            "drwxr-xr-x  2 root root 4.0K Aug 23 17:34 8\n",
            "drwxr-xr-x  2 root root 4.0K Aug 23 17:34 9\n"
          ],
          "name": "stdout"
        }
      ]
    },
    {
      "cell_type": "code",
      "metadata": {
        "id": "9-iAVt811W2s",
        "colab_type": "code",
        "colab": {
          "base_uri": "https://localhost:8080/",
          "height": 1000
        },
        "outputId": "6371fb87-6d07-490f-954a-c53936d3daa5"
      },
      "source": [
        "temp = np.load('data_processed/2/airplane.npy')\n",
        "temp[0]"
      ],
      "execution_count": 15,
      "outputs": [
        {
          "output_type": "execute_result",
          "data": {
            "text/plain": [
              "array([  0,   0,   0,   0,   0,   0,   0,   0,   0,   0,   0,   0,   0,\n",
              "         0,   0,   0,   0,   0,   0,   0,   0,   0,   0,   0,   0,   0,\n",
              "         0,   0,   0,   0,   0,   0,   0,   0,   0,   0,   0,   0,   0,\n",
              "         0,   0,   0,   0,   0,   0,   0,   0,   0,   0,   0,   0,   0,\n",
              "         0,   0,   0,   0,   0,   0,   0,   0,   0,   0,   0,   0,   0,\n",
              "         0,   0,   0,   0,   0,   0,   0,   0,   0,   0,   0,   0,   0,\n",
              "         0,   0,   0,   0,   0,   0,   0,   0,   0,   0,   0,   0,   0,\n",
              "         0,   0,   0,   0,   0,   0,   0,   0,   0,   0,   0,   0,   0,\n",
              "         0,   0,   0,   0,   0,   0,   0,   0,   0,   0,   0,   0,   0,\n",
              "         0,   0,   0,   0,   0,   0,   0,   0,   0,   0,   0,   0,   0,\n",
              "         0,   0,   0,   0,   0,   0,   0,   0,   0,   0,   0,   0,   0,\n",
              "         0,   0,   0,   0,   0,   0,   0,   0,   0,   0,   0,   0,   0,\n",
              "         0,   0,   0,   0,   0,   0,   0,   0,   0,   0,   0,   0,   0,\n",
              "         0,   0,   0,   0,   0,   0,   0,   0,   0,   0,   0,   0,   0,\n",
              "         0,   0,   0,   0,   0,   0,   0,   0,   0,   0,   0,   0,   0,\n",
              "         0,   0,   0,   0,   0,   0,   0,   0,   0,   0,   0,   0,   0,\n",
              "         0,   0,   0, 103, 192,   3,   0,   0,   0,   0,   0,   0,   0,\n",
              "         0,   0,   0,   0,   0,   0,   0,   0,   0,   0,   0,   0,   0,\n",
              "         0,   0,   0,   0,  66, 251, 255,  61,   0,   0,   0,   0,   0,\n",
              "         0,   0,   0,   0,   0,   0,   0,  34,  85, 101, 102,  80,  14,\n",
              "         0,   0,   0,   0,   0,  35, 236, 205, 244, 140,   0,   5,  29,\n",
              "        57,  80,  80,  68,  64,   6,   0,   0,   0, 167, 255, 255, 255,\n",
              "       255, 225,  60,   0,  22,  46,  75, 223, 243, 165, 231, 247, 231,\n",
              "       254, 255, 255, 255, 255, 255, 255, 102,   0,   0,   0,   9,  72,\n",
              "       129, 189, 255, 255, 252, 250, 255, 255, 255, 255, 252, 227, 207,\n",
              "       201, 146, 120,  94,  74, 128, 238, 252, 140,   8,   0,   0,   0,\n",
              "         0,   0,  22, 138, 248, 252, 172, 165, 103,  76,  49,  24,   1,\n",
              "         0,   0,  58, 166, 125, 181, 239, 255, 211,  58,   0,   0,   0,\n",
              "         0,   0,   0,  63, 231, 249, 158,  42,  15,  13,  20,  54,  89,\n",
              "       124, 168, 193, 227, 255, 255, 251, 204, 146,  61,   1,   0,   0,\n",
              "         0,   0,   0,   0,  72, 251, 209,  37,   0,  75, 249, 250, 255,\n",
              "       255, 255, 251, 254, 218, 164, 253, 156,  10,   0,   0,   0,   0,\n",
              "         0,   0,   0,   0,   0,  22, 234, 201,  10,  36, 152, 253, 234,\n",
              "       154, 104,  70,  35,   5, 175, 227, 133, 249,  24,   0,   0,   0,\n",
              "         0,   0,   0,   0,   0,   0,   0,  94, 255, 100, 172, 253, 245,\n",
              "       138,   7,   0,   0,   0,   0,   0, 141, 242, 232, 168,   0,   0,\n",
              "         0,   0,   0,   0,   0,   0,   0,   0,   0,  96, 255, 255, 233,\n",
              "       125,  19,   0,   0,   0,   0,   0,   0,   0, 161, 255, 255,  61,\n",
              "         0,   0,   0,   0,   0,   0,   0,   0,   0,   0,   0,   7, 121,\n",
              "        97,   8,   0,   0,   0,   0,   0,   0,   0,   0,   0, 181, 255,\n",
              "       212,   1,   0,   0,   0,   0,   0,   0,   0,   0,   0,   0,   0,\n",
              "         0,   0,   0,   0,   0,   0,   0,   0,   0,   0,   0,   0,   0,\n",
              "       179, 255, 105,   0,   0,   0,   0,   0,   0,   0,   0,   0,   0,\n",
              "         0,   0,   0,   0,   0,   0,   0,   0,   0,   0,   0,   0,   0,\n",
              "         0,   0,  70, 204,  13,   0,   0,   0,   0,   0,   0,   0,   0,\n",
              "         0,   0,   0,   0,   0,   0,   0,   0,   0,   0,   0,   0,   0,\n",
              "         0,   0,   0,   0,   0,   0,   0,   0,   0,   0,   0,   0,   0,\n",
              "         0,   0,   0,   0,   0,   0,   0,   0,   0,   0,   0,   0,   0,\n",
              "         0,   0,   0,   0,   0,   0,   0,   0,   0,   0,   0,   0,   0,\n",
              "         0,   0,   0,   0,   0,   0,   0,   0,   0,   0,   0,   0,   0,\n",
              "         0,   0,   0,   0,   0,   0,   0,   0,   0,   0,   0,   0,   0,\n",
              "         0,   0,   0,   0,   0,   0,   0,   0,   0,   0,   0,   0,   0,\n",
              "         0,   0,   0,   0,   0,   0,   0,   0,   0,   0,   0,   0,   0,\n",
              "         0,   0,   0,   0,   0,   0,   0,   0,   0,   0,   0,   0,   0,\n",
              "         0,   0,   0,   0,   0,   0,   0,   0,   0,   0,   0,   0,   0,\n",
              "         0,   0,   0,   0,   0,   0,   0,   0,   0,   0,   0,   0,   0,\n",
              "         0,   0,   0,   0,   0,   0,   0,   0,   0,   0,   0,   0,   0,\n",
              "         0,   0,   0,   0,   0,   0,   0,   0,   0,   0,   0,   0,   0,\n",
              "         0,   0,   0,   0,   0,   0,   0,   0,   0,   0,   0,   0,   0,\n",
              "         0,   0,   0,   0,   0,   0,   0,   0,   0,   0,   0,   0,   0,\n",
              "         0,   0,   0,   0], dtype=uint8)"
            ]
          },
          "metadata": {
            "tags": []
          },
          "execution_count": 15
        }
      ]
    },
    {
      "cell_type": "code",
      "metadata": {
        "id": "_RsxQZO_1fMm",
        "colab_type": "code",
        "colab": {
          "base_uri": "https://localhost:8080/",
          "height": 278
        },
        "outputId": "d3767d15-281d-47ae-b5b4-8dc2c0b1f62d"
      },
      "source": [
        "# !gsutil cp data.zip gs://ml_workspace/quick_draw/ds_20k.zip\n",
        "!gsutil cp qd_20k_split.tar.gz gs://ml_workspace/quick_draw/qd_20k_split.tar.gz\n",
        "# !tar -zcvf qd_20k_split.tar.gz data_processed\n",
        "# !ls -lah"
      ],
      "execution_count": 32,
      "outputs": [
        {
          "output_type": "stream",
          "text": [
            "Copying file://qd_20k_split.tar.gz [Content-Type=application/x-tar]...\n",
            "/ [0 files][    0.0 B/921.5 MiB]                                                \r==> NOTE: You are uploading one or more large file(s), which would run\n",
            "significantly faster if you enable parallel composite uploads. This\n",
            "feature can be enabled by editing the\n",
            "\"parallel_composite_upload_threshold\" value in your .boto\n",
            "configuration file. However, note that if you do this large files will\n",
            "be uploaded as `composite objects\n",
            "<https://cloud.google.com/storage/docs/composite-objects>`_,which\n",
            "means that any user who downloads such objects will need to have a\n",
            "compiled crcmod installed (see \"gsutil help crcmod\"). This is because\n",
            "without a compiled crcmod, computing checksums on composite objects is\n",
            "so slow that gsutil disables downloads of composite objects.\n",
            "\n",
            "\\\n",
            "Operation completed over 1 objects/921.5 MiB.                                    \n"
          ],
          "name": "stdout"
        }
      ]
    }
  ]
}